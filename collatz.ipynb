{
 "cells": [
  {
   "cell_type": "code",
   "execution_count": 1,
   "metadata": {
    "collapsed": true
   },
   "outputs": [],
   "source": [
    "# messing around with this idea: https://twitter.com/AlexKontorovich/status/1172715174786228224\n",
    "# obviously it's not going to work but it's really fun anyways"
   ]
  },
  {
   "cell_type": "code",
   "execution_count": 2,
   "metadata": {
    "collapsed": true
   },
   "outputs": [],
   "source": [
    "def collatz(number):\n",
    "    number = int(number)\n",
    "    assert number > 0\n",
    "    while True:\n",
    "        while number & 1 == 0:\n",
    "            number = number >> 1\n",
    "        yield number\n",
    "        if number == 1:\n",
    "            break\n",
    "        number = 3 * number + 1"
   ]
  },
  {
   "cell_type": "code",
   "execution_count": 3,
   "metadata": {
    "scrolled": true
   },
   "outputs": [],
   "source": [
    "# cool_program = 887570260646934643447331259693373543698140232874500619768489156911\n",
    "# for number in collatz(cool_program):\n",
    "#     print(bin(number))"
   ]
  },
  {
   "cell_type": "code",
   "execution_count": 4,
   "metadata": {},
   "outputs": [],
   "source": [
    "import numpy as np\n",
    "import PIL.Image"
   ]
  },
  {
   "cell_type": "code",
   "execution_count": 5,
   "metadata": {},
   "outputs": [],
   "source": [
    "def render_collatz(start, base = 2, scale = 2, limit = 10000):\n",
    "    assert base <= 10\n",
    "    to_base = lambda i: np.base_repr(i, base = base)\n",
    "    sequence = []\n",
    "    for i, number in enumerate(collatz(start)):\n",
    "        sequence.append(number)\n",
    "        if i > limit:\n",
    "            raise Exception('limit reached!', sequence)\n",
    "    width = max(len(to_base(number)) for number in sequence) + 3\n",
    "    height = len(sequence)\n",
    "    array = np.asarray([[int(bit) for bit in to_base(number).zfill(width)] for number in sequence], dtype='uint8')\n",
    "    image = PIL.Image.fromarray((base - 1 - array) * (255 // (base - 1)))\n",
    "    return image.resize((image.size[0] * scale, image.size[1] * scale))"
   ]
  },
  {
   "cell_type": "code",
   "execution_count": 6,
   "metadata": {},
   "outputs": [],
   "source": [
    "# render_collatz(cool_program)"
   ]
  },
  {
   "cell_type": "code",
   "execution_count": 7,
   "metadata": {},
   "outputs": [],
   "source": [
    "# render_collatz(cool_program, 3)"
   ]
  },
  {
   "cell_type": "code",
   "execution_count": 8,
   "metadata": {},
   "outputs": [],
   "source": [
    "# render_collatz(2**0 + 2**200 + 2**400)"
   ]
  },
  {
   "cell_type": "code",
   "execution_count": 9,
   "metadata": {
    "collapsed": true
   },
   "outputs": [],
   "source": [
    "def render_collatz_chopped(start, chop_start, chop_end, base = 2, scale = 2, limit = 10000):\n",
    "    assert base <= 10\n",
    "    to_base = lambda i: np.base_repr(i, base = base)\n",
    "    sequence = []\n",
    "    for i, number in enumerate(collatz(start)):\n",
    "        sequence.append(number)\n",
    "        if i > limit:\n",
    "            raise Exception('limit reached!', sequence)\n",
    "        if i > chop_end:\n",
    "            break\n",
    "    sequence = sequence[chop_start:chop_end]\n",
    "    width = max(len(to_base(number)) for number in sequence) + 3\n",
    "    height = len(sequence)\n",
    "    array = np.asarray([[int(bit) for bit in to_base(number).zfill(width)] for number in sequence], dtype='uint8')\n",
    "    image = PIL.Image.fromarray((base - 1 - array) * (255 // (base - 1)))\n",
    "    return image.resize((image.size[0] * scale, image.size[1] * scale))"
   ]
  },
  {
   "cell_type": "code",
   "execution_count": 10,
   "metadata": {},
   "outputs": [],
   "source": [
    "# render_collatz_chopped(2**0 + 2**200 + 2**400, 0, 150)"
   ]
  },
  {
   "cell_type": "code",
   "execution_count": 17,
   "metadata": {},
   "outputs": [],
   "source": [
    "# credit: https://gist.github.com/jakevdp/c7a27b31bade6b4a41718a76305b5054\n",
    "\n",
    "from ipywidgets import interact\n",
    "\n",
    "def display_image(x):\n",
    "    if type(x) == PIL.Image.Image:\n",
    "        return x\n",
    "    x_scaled = np.uint8(255 * (x - x.min()) / x.ptp())\n",
    "    return PIL.Image.fromarray(x_scaled)\n",
    "\n",
    "def display_sequence(images):\n",
    "    def _show(frame=(0, len(images)-1)):\n",
    "        return display_image(images[frame])\n",
    "    return interact(_show)"
   ]
  },
  {
   "cell_type": "code",
   "execution_count": 18,
   "metadata": {},
   "outputs": [],
   "source": [
    "# display_sequence([np.random.rand(200, 200) for i in range(50)])"
   ]
  },
  {
   "cell_type": "code",
   "execution_count": 19,
   "metadata": {},
   "outputs": [
    {
     "data": {
      "application/vnd.jupyter.widget-view+json": {
       "model_id": "7a011cfcffa346258dc927f5aebe90d1"
      }
     },
     "metadata": {},
     "output_type": "display_data"
    },
    {
     "data": {
      "text/plain": [
       "<function __main__.display_sequence.<locals>._show>"
      ]
     },
     "execution_count": 19,
     "metadata": {},
     "output_type": "execute_result"
    }
   ],
   "source": [
    "sequence = []\n",
    "\n",
    "for i in range(200, 250):\n",
    "    sequence.append(render_collatz_chopped(2**0 + 2**i + 2**400, 0, 150))\n",
    "\n",
    "display_sequence(sequence)"
   ]
  },
  {
   "cell_type": "code",
   "execution_count": null,
   "metadata": {
    "collapsed": true
   },
   "outputs": [],
   "source": []
  }
 ],
 "metadata": {
  "kernelspec": {
   "display_name": "Python 3",
   "language": "python",
   "name": "python3"
  },
  "language_info": {
   "codemirror_mode": {
    "name": "ipython",
    "version": 3
   },
   "file_extension": ".py",
   "mimetype": "text/x-python",
   "name": "python",
   "nbconvert_exporter": "python",
   "pygments_lexer": "ipython3",
   "version": "3.6.1"
  }
 },
 "nbformat": 4,
 "nbformat_minor": 2
}
